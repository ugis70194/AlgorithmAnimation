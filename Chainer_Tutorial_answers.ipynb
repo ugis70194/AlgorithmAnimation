{
  "nbformat": 4,
  "nbformat_minor": 0,
  "metadata": {
    "colab": {
      "name": "Chainer_Tutorial_answers.ipynb",
      "provenance": [],
      "collapsed_sections": [
        "ssF47l3Oqaci",
        "lmQZXtPPt-H5",
        "Zayb6lI7wG-C",
        "lmfh603mzDe_",
        "myfEgQOTXcei",
        "hSEvYFvTadbP"
      ],
      "toc_visible": true,
      "include_colab_link": true
    },
    "kernelspec": {
      "name": "python3",
      "display_name": "Python 3"
    },
    "accelerator": "GPU"
  },
  "cells": [
    {
      "cell_type": "markdown",
      "metadata": {
        "id": "view-in-github",
        "colab_type": "text"
      },
      "source": [
        "<a href=\"https://colab.research.google.com/github/ugis70194/AlgorithmAnimation/blob/master/Chainer_Tutorial_answers.ipynb\" target=\"_parent\"><img src=\"https://colab.research.google.com/assets/colab-badge.svg\" alt=\"Open In Colab\"/></a>"
      ]
    },
    {
      "cell_type": "markdown",
      "metadata": {
        "id": "eOkxwfKWWjdg",
        "colab_type": "text"
      },
      "source": [
        "# Chainer Tutorial answers\n",
        "https://tutorials.chainer.org/ja/tutorial.html"
      ]
    },
    {
      "cell_type": "markdown",
      "metadata": {
        "id": "In5a4j2ZgqIU",
        "colab_type": "text"
      },
      "source": [
        "## Problem 2(Getting started to Python)"
      ]
    },
    {
      "cell_type": "markdown",
      "metadata": {
        "id": "ssF47l3Oqaci",
        "colab_type": "text"
      },
      "source": [
        "### Problem 2.1(Build in function)\n"
      ]
    },
    {
      "cell_type": "markdown",
      "metadata": {
        "id": "oXmVR2YMK93A",
        "colab_type": "text"
      },
      "source": [
        "#### Problem 2.1.1(Find length that list a)"
      ]
    },
    {
      "cell_type": "code",
      "metadata": {
        "id": "tahN5icWqnL0",
        "colab_type": "code",
        "outputId": "6d62dc50-9e11-4f61-d99d-25c379a7327f",
        "colab": {
          "base_uri": "https://localhost:8080/",
          "height": 34
        }
      },
      "source": [
        "a = [4, 8, 3, 4 ,1]\n",
        "res = len(a)\n",
        "print(res)"
      ],
      "execution_count": 0,
      "outputs": [
        {
          "output_type": "stream",
          "text": [
            "5\n"
          ],
          "name": "stdout"
        }
      ]
    },
    {
      "cell_type": "markdown",
      "metadata": {
        "id": "RlvGQ1IOLEFl",
        "colab_type": "text"
      },
      "source": [
        "#### Problem 2.1.2(Find maximum value in list a)"
      ]
    },
    {
      "cell_type": "code",
      "metadata": {
        "id": "4HBoZN1NrWXs",
        "colab_type": "code",
        "outputId": "8df73eaa-ca04-46e6-89ad-db62f757d004",
        "colab": {
          "base_uri": "https://localhost:8080/",
          "height": 34
        }
      },
      "source": [
        "a = [4, 8, 3, 4 ,1]\n",
        "res = max(a)\n",
        "print(res)"
      ],
      "execution_count": 0,
      "outputs": [
        {
          "output_type": "stream",
          "text": [
            "8\n"
          ],
          "name": "stdout"
        }
      ]
    },
    {
      "cell_type": "markdown",
      "metadata": {
        "id": "YPAOxgEkLGh_",
        "colab_type": "text"
      },
      "source": [
        "#### Problem 2.1.3(Find minimum value in list a)"
      ]
    },
    {
      "cell_type": "code",
      "metadata": {
        "id": "Wlb-pVgRrxAM",
        "colab_type": "code",
        "outputId": "8c742996-9da3-41de-f640-459cc263d8aa",
        "colab": {
          "base_uri": "https://localhost:8080/",
          "height": 34
        }
      },
      "source": [
        "a = [4, 8, 3, 4 ,1]\n",
        "res = min(a)\n",
        "print(res)"
      ],
      "execution_count": 0,
      "outputs": [
        {
          "output_type": "stream",
          "text": [
            "1\n"
          ],
          "name": "stdout"
        }
      ]
    },
    {
      "cell_type": "markdown",
      "metadata": {
        "id": "MBHwzk2SLIHS",
        "colab_type": "text"
      },
      "source": [
        "#### Problem 2.1.4(Find sum of value in list a)"
      ]
    },
    {
      "cell_type": "code",
      "metadata": {
        "id": "4GQeGwezr9IU",
        "colab_type": "code",
        "outputId": "8b9ddef9-80ac-4aef-b338-9d032bfe7ab1",
        "colab": {
          "base_uri": "https://localhost:8080/",
          "height": 34
        }
      },
      "source": [
        "a = [4, 8, 3, 4 ,1]\n",
        "res = sum(a)\n",
        "print(res)"
      ],
      "execution_count": 0,
      "outputs": [
        {
          "output_type": "stream",
          "text": [
            "20\n"
          ],
          "name": "stdout"
        }
      ]
    },
    {
      "cell_type": "markdown",
      "metadata": {
        "id": "iy9KhiazLJGG",
        "colab_type": "text"
      },
      "source": [
        "#### Problem 2.1.5(Sort list a)"
      ]
    },
    {
      "cell_type": "code",
      "metadata": {
        "id": "o2WC4fh5swEu",
        "colab_type": "code",
        "outputId": "fb951fa4-64dc-493b-b420-f1c90e9d23d6",
        "colab": {
          "base_uri": "https://localhost:8080/",
          "height": 34
        }
      },
      "source": [
        "a = [4, 8, 3, 4 ,1]\n",
        "res = sorted(a)\n",
        "print(res)"
      ],
      "execution_count": 0,
      "outputs": [
        {
          "output_type": "stream",
          "text": [
            "[1, 3, 4, 4, 8]\n"
          ],
          "name": "stdout"
        }
      ]
    },
    {
      "cell_type": "markdown",
      "metadata": {
        "id": "lmQZXtPPt-H5",
        "colab_type": "text"
      },
      "source": [
        "### Problem 2.2(Operation)"
      ]
    },
    {
      "cell_type": "markdown",
      "metadata": {
        "id": "0_sEvlHYLjK8",
        "colab_type": "text"
      },
      "source": [
        "#### Problem 2.2.1(1.2 + 3.8)"
      ]
    },
    {
      "cell_type": "code",
      "metadata": {
        "id": "S_NNZUjguCj2",
        "colab_type": "code",
        "outputId": "22dc89a7-167b-4284-819f-2a1d29f0ae61",
        "colab": {
          "base_uri": "https://localhost:8080/",
          "height": 34
        }
      },
      "source": [
        "# guess (value, type) = (5.0, float)\n",
        "value = 1.2 + 3.8\n",
        "ty = type(value)\n",
        "print(value, ty)"
      ],
      "execution_count": 0,
      "outputs": [
        {
          "output_type": "stream",
          "text": [
            "5.0 <class 'float'>\n"
          ],
          "name": "stdout"
        }
      ]
    },
    {
      "cell_type": "markdown",
      "metadata": {
        "id": "_V2grMKkLsBt",
        "colab_type": "text"
      },
      "source": [
        "#### Problem 2.2.2(10 // 100)"
      ]
    },
    {
      "cell_type": "code",
      "metadata": {
        "id": "7vj2tcuvukSu",
        "colab_type": "code",
        "outputId": "8fd9bc47-5b7d-43c8-ee73-0f81202555ef",
        "colab": {
          "base_uri": "https://localhost:8080/",
          "height": 34
        }
      },
      "source": [
        "# guess (value, type) = (0, int)\n",
        "value = 10 // 100\n",
        "ty = type(value)\n",
        "print(value, ty)"
      ],
      "execution_count": 0,
      "outputs": [
        {
          "output_type": "stream",
          "text": [
            "0 <class 'int'>\n"
          ],
          "name": "stdout"
        }
      ]
    },
    {
      "cell_type": "markdown",
      "metadata": {
        "id": "I9C5t1onLwuR",
        "colab_type": "text"
      },
      "source": [
        "#### Problem 2.2.3(1 >= 0)"
      ]
    },
    {
      "cell_type": "code",
      "metadata": {
        "id": "YJtBR3Hvu8qc",
        "colab_type": "code",
        "outputId": "5b4f2343-0e72-4eb9-d941-49e6dd4dd7d4",
        "colab": {
          "base_uri": "https://localhost:8080/",
          "height": 34
        }
      },
      "source": [
        "# guess (value, type) = (True, bool)\n",
        "value = 1 >= 0\n",
        "ty = type(value)\n",
        "print(value, ty)"
      ],
      "execution_count": 0,
      "outputs": [
        {
          "output_type": "stream",
          "text": [
            "True <class 'bool'>\n"
          ],
          "name": "stdout"
        }
      ]
    },
    {
      "cell_type": "markdown",
      "metadata": {
        "id": "vKU4h8hwLz9L",
        "colab_type": "text"
      },
      "source": [
        "#### Problem 2.2.4('Hello World')"
      ]
    },
    {
      "cell_type": "code",
      "metadata": {
        "id": "Dr7GVGKdvGBA",
        "colab_type": "code",
        "outputId": "bcd9ab46-c49f-4382-ac84-f228ffc7d1e3",
        "colab": {
          "base_uri": "https://localhost:8080/",
          "height": 34
        }
      },
      "source": [
        "# guess (value, type) = (True, bool)\n",
        "value = 'Hello World' == 'Hello World'\n",
        "ty = type(value)\n",
        "print(value, ty)"
      ],
      "execution_count": 0,
      "outputs": [
        {
          "output_type": "stream",
          "text": [
            "True <class 'bool'>\n"
          ],
          "name": "stdout"
        }
      ]
    },
    {
      "cell_type": "markdown",
      "metadata": {
        "id": "WAN62cYeL5H_",
        "colab_type": "text"
      },
      "source": [
        "#### Problem 2.2.5('Chainer')"
      ]
    },
    {
      "cell_type": "code",
      "metadata": {
        "id": "LI413yL_vPsK",
        "colab_type": "code",
        "outputId": "5dfee224-9e8d-4125-9f30-c6cb460744f8",
        "colab": {
          "base_uri": "https://localhost:8080/",
          "height": 34
        }
      },
      "source": [
        "# guess (value, type) = (False, bool)\n",
        "value = not 'Chainer' != 'Tutorial'\n",
        "ty = type(value)\n",
        "print(value, ty)"
      ],
      "execution_count": 0,
      "outputs": [
        {
          "output_type": "stream",
          "text": [
            "False <class 'bool'>\n"
          ],
          "name": "stdout"
        }
      ]
    },
    {
      "cell_type": "markdown",
      "metadata": {
        "id": "QvvrI9HFL83F",
        "colab_type": "text"
      },
      "source": [
        "#### Problem 2.2.6(all())"
      ]
    },
    {
      "cell_type": "code",
      "metadata": {
        "id": "BRnaQES1vfGC",
        "colab_type": "code",
        "outputId": "6bbbb3e7-65df-44a0-af60-819e93d0da04",
        "colab": {
          "base_uri": "https://localhost:8080/",
          "height": 34
        }
      },
      "source": [
        "# guess (value, type) = (False, bool)\n",
        "value = all([True, True, False])\n",
        "ty = type(value)\n",
        "print(value, ty)"
      ],
      "execution_count": 0,
      "outputs": [
        {
          "output_type": "stream",
          "text": [
            "False <class 'bool'>\n"
          ],
          "name": "stdout"
        }
      ]
    },
    {
      "cell_type": "markdown",
      "metadata": {
        "id": "xWeKWzU_L_qU",
        "colab_type": "text"
      },
      "source": [
        "#### Problem 2.2.7(any())"
      ]
    },
    {
      "cell_type": "code",
      "metadata": {
        "id": "qH_YTamdvmeP",
        "colab_type": "code",
        "outputId": "c5237149-bc9c-4914-a95b-d97807ef27b0",
        "colab": {
          "base_uri": "https://localhost:8080/",
          "height": 34
        }
      },
      "source": [
        "# guess (value, type) = (True, bool)\n",
        "value = any([True, True, False])\n",
        "ty = type(value)\n",
        "print(value, ty)"
      ],
      "execution_count": 0,
      "outputs": [
        {
          "output_type": "stream",
          "text": [
            "True <class 'bool'>\n"
          ],
          "name": "stdout"
        }
      ]
    },
    {
      "cell_type": "markdown",
      "metadata": {
        "id": "UvMgW4QtMDnK",
        "colab_type": "text"
      },
      "source": [
        "#### Problem 2.2.8(abs())"
      ]
    },
    {
      "cell_type": "code",
      "metadata": {
        "id": "GaKwkRvKvsCy",
        "colab_type": "code",
        "outputId": "eebf1e6e-abc0-434c-d830-2c0a9991e1c6",
        "colab": {
          "base_uri": "https://localhost:8080/",
          "height": 34
        }
      },
      "source": [
        "# guess (value, type) = (3, int)\n",
        "value = abs(-3)\n",
        "ty = type(value)\n",
        "print(value, ty)"
      ],
      "execution_count": 0,
      "outputs": [
        {
          "output_type": "stream",
          "text": [
            "3 <class 'int'>\n"
          ],
          "name": "stdout"
        }
      ]
    },
    {
      "cell_type": "markdown",
      "metadata": {
        "id": "922OLQZEMG5Y",
        "colab_type": "text"
      },
      "source": [
        "#### Problem 2.2.9(2 // 0)"
      ]
    },
    {
      "cell_type": "code",
      "metadata": {
        "id": "tlshI3nXvx13",
        "colab_type": "code",
        "outputId": "5f1547cf-e63f-44e8-f433-8de9c352d063",
        "colab": {
          "base_uri": "https://localhost:8080/",
          "height": 201
        }
      },
      "source": [
        "# guess (value, type) = (infitity, err)\n",
        "value = 2 // 0\n",
        "ty = type(value)\n",
        "print(value, ty)"
      ],
      "execution_count": 0,
      "outputs": [
        {
          "output_type": "error",
          "ename": "ZeroDivisionError",
          "evalue": "ignored",
          "traceback": [
            "\u001b[0;31m---------------------------------------------------------------------------\u001b[0m",
            "\u001b[0;31mZeroDivisionError\u001b[0m                         Traceback (most recent call last)",
            "\u001b[0;32m<ipython-input-20-55e5c6611d27>\u001b[0m in \u001b[0;36m<module>\u001b[0;34m()\u001b[0m\n\u001b[0;32m----> 1\u001b[0;31m \u001b[0mvalue\u001b[0m \u001b[0;34m=\u001b[0m \u001b[0;36m2\u001b[0m \u001b[0;34m//\u001b[0m \u001b[0;36m0\u001b[0m\u001b[0;34m\u001b[0m\u001b[0;34m\u001b[0m\u001b[0m\n\u001b[0m\u001b[1;32m      2\u001b[0m \u001b[0mty\u001b[0m \u001b[0;34m=\u001b[0m \u001b[0mtype\u001b[0m\u001b[0;34m(\u001b[0m\u001b[0mvalue\u001b[0m\u001b[0;34m)\u001b[0m\u001b[0;34m\u001b[0m\u001b[0;34m\u001b[0m\u001b[0m\n\u001b[1;32m      3\u001b[0m \u001b[0mprint\u001b[0m\u001b[0;34m(\u001b[0m\u001b[0mvalue\u001b[0m\u001b[0;34m,\u001b[0m \u001b[0mty\u001b[0m\u001b[0;34m)\u001b[0m\u001b[0;34m\u001b[0m\u001b[0;34m\u001b[0m\u001b[0m\n",
            "\u001b[0;31mZeroDivisionError\u001b[0m: integer division or modulo by zero"
          ]
        }
      ]
    },
    {
      "cell_type": "markdown",
      "metadata": {
        "id": "Zayb6lI7wG-C",
        "colab_type": "text"
      },
      "source": [
        "### Problem 2.3(Basic operation of list)"
      ]
    },
    {
      "cell_type": "markdown",
      "metadata": {
        "id": "F-555ktuMlvZ",
        "colab_type": "text"
      },
      "source": [
        "#### Problem 2.3.1(Remove first element of list a)"
      ]
    },
    {
      "cell_type": "code",
      "metadata": {
        "id": "Zhqd_qMPweug",
        "colab_type": "code",
        "outputId": "5a5cecca-e0dc-4930-c8c8-e1df96d16b2b",
        "colab": {
          "base_uri": "https://localhost:8080/",
          "height": 34
        }
      },
      "source": [
        "a = [4, 8, 3, 4, 1]\n",
        "a.pop(0)\n",
        "print(a)"
      ],
      "execution_count": 0,
      "outputs": [
        {
          "output_type": "stream",
          "text": [
            "[8, 3, 4, 1]\n"
          ],
          "name": "stdout"
        }
      ]
    },
    {
      "cell_type": "markdown",
      "metadata": {
        "id": "hZgrJ3TzMsNo",
        "colab_type": "text"
      },
      "source": [
        "#### Problem 2.3.2(Remove last element of list a)"
      ]
    },
    {
      "cell_type": "code",
      "metadata": {
        "id": "Ny7JaNpcyEi4",
        "colab_type": "code",
        "outputId": "ebd1ced2-5c13-46b8-8c9c-f85c65d37f2d",
        "colab": {
          "base_uri": "https://localhost:8080/",
          "height": 34
        }
      },
      "source": [
        "a = [4, 8, 3, 4, 1]\n",
        "a.pop()\n",
        "print(a)"
      ],
      "execution_count": 0,
      "outputs": [
        {
          "output_type": "stream",
          "text": [
            "[4, 8, 3, 4]\n"
          ],
          "name": "stdout"
        }
      ]
    },
    {
      "cell_type": "markdown",
      "metadata": {
        "id": "Fjyw-xeqMyNM",
        "colab_type": "text"
      },
      "source": [
        "#### Problem 2.3.2(Add 100 end of list a)"
      ]
    },
    {
      "cell_type": "code",
      "metadata": {
        "id": "EyLuCAO4yf9f",
        "colab_type": "code",
        "outputId": "c8cf2ed9-6690-41b6-f28b-8704b0cd38b2",
        "colab": {
          "base_uri": "https://localhost:8080/",
          "height": 34
        }
      },
      "source": [
        "a = [4, 8, 3, 4, 1]\n",
        "a.append(100)\n",
        "print(a)"
      ],
      "execution_count": 0,
      "outputs": [
        {
          "output_type": "stream",
          "text": [
            "[4, 8, 3, 4, 1, 100]\n"
          ],
          "name": "stdout"
        }
      ]
    },
    {
      "cell_type": "markdown",
      "metadata": {
        "id": "lmfh603mzDe_",
        "colab_type": "text"
      },
      "source": [
        "### Problem 2.4(List comprehension)"
      ]
    },
    {
      "cell_type": "markdown",
      "metadata": {
        "id": "VhpNFu1pM-Ci",
        "colab_type": "text"
      },
      "source": [
        "#### Problem 2.4.1(convert to 1 if the element is even, convert to 2 if it is odd)"
      ]
    },
    {
      "cell_type": "code",
      "metadata": {
        "id": "Fl5RCTDqzh4O",
        "colab_type": "code",
        "outputId": "c943ace2-4615-473e-8844-682aebf42d92",
        "colab": {
          "base_uri": "https://localhost:8080/",
          "height": 34
        }
      },
      "source": [
        "a = [4, 8, 3, 4, 1]\n",
        "b = [x%2 for x in a]\n",
        "print(b)"
      ],
      "execution_count": 0,
      "outputs": [
        {
          "output_type": "stream",
          "text": [
            "[0, 0, 1, 0, 1]\n"
          ],
          "name": "stdout"
        }
      ]
    },
    {
      "cell_type": "markdown",
      "metadata": {
        "id": "eIaWeJcPNA1C",
        "colab_type": "text"
      },
      "source": [
        "#### Problem 2.4.2(count odd elements in list a)"
      ]
    },
    {
      "cell_type": "code",
      "metadata": {
        "id": "JbfzQW4jNMI6",
        "colab_type": "code",
        "colab": {}
      },
      "source": [
        ""
      ],
      "execution_count": 0,
      "outputs": []
    },
    {
      "cell_type": "code",
      "metadata": {
        "id": "49M36OcO1CWN",
        "colab_type": "code",
        "outputId": "a32bda05-f7c5-4a06-b6ab-d3cb599012a1",
        "colab": {
          "base_uri": "https://localhost:8080/",
          "height": 34
        }
      },
      "source": [
        "a = [4, 8, 3, 4, 1]\n",
        "res = sum([x%2 for x in a])\n",
        "print(res)"
      ],
      "execution_count": 0,
      "outputs": [
        {
          "output_type": "stream",
          "text": [
            "2\n"
          ],
          "name": "stdout"
        }
      ]
    },
    {
      "cell_type": "markdown",
      "metadata": {
        "id": "6sFNw-xDNBw1",
        "colab_type": "text"
      },
      "source": [
        "#### Problem 2.4.3(keep only elements of list a)"
      ]
    },
    {
      "cell_type": "code",
      "metadata": {
        "id": "Rk_LO9R_11pd",
        "colab_type": "code",
        "outputId": "960adcf7-5170-415c-c3b6-41781f804126",
        "colab": {
          "base_uri": "https://localhost:8080/",
          "height": 34
        }
      },
      "source": [
        "a = [4, 8, 3, 4, 1]\n",
        "a = [x for x in a if x%2 == 1]\n",
        "print(a)"
      ],
      "execution_count": 0,
      "outputs": [
        {
          "output_type": "stream",
          "text": [
            "[3, 1]\n"
          ],
          "name": "stdout"
        }
      ]
    },
    {
      "cell_type": "markdown",
      "metadata": {
        "id": "myfEgQOTXcei",
        "colab_type": "text"
      },
      "source": [
        "### Problem 2.5(Strings)"
      ]
    },
    {
      "cell_type": "markdown",
      "metadata": {
        "id": "cZ7MHjMDNRX2",
        "colab_type": "text"
      },
      "source": [
        "#### Problem2.5.1(make \"0 1 2 ... 99\" using str.join())"
      ]
    },
    {
      "cell_type": "code",
      "metadata": {
        "id": "K2ymNB9eXnvZ",
        "colab_type": "code",
        "outputId": "ae0aef91-446c-458e-d1bc-1fe81e420193",
        "colab": {
          "base_uri": "https://localhost:8080/",
          "height": 54
        }
      },
      "source": [
        "res = \" \".join([str(i) for i in range(0, 100)])\n",
        "print(res)"
      ],
      "execution_count": 0,
      "outputs": [
        {
          "output_type": "stream",
          "text": [
            "0 1 2 3 4 5 6 7 8 9 10 11 12 13 14 15 16 17 18 19 20 21 22 23 24 25 26 27 28 29 30 31 32 33 34 35 36 37 38 39 40 41 42 43 44 45 46 47 48 49 50 51 52 53 54 55 56 57 58 59 60 61 62 63 64 65 66 67 68 69 70 71 72 73 74 75 76 77 78 79 80 81 82 83 84 85 86 87 88 89 90 91 92 93 94 95 96 97 98 99\n"
          ],
          "name": "stdout"
        }
      ]
    },
    {
      "cell_type": "markdown",
      "metadata": {
        "id": "Nj4ShwOCNVEO",
        "colab_type": "text"
      },
      "source": [
        "#### Problem2.5.2(display up to 9 decimal place using str.format())"
      ]
    },
    {
      "cell_type": "code",
      "metadata": {
        "id": "aj1Xvew5ZlcC",
        "colab_type": "code",
        "outputId": "28d83c47-8e6a-41b6-eab9-33b881a14d10",
        "colab": {
          "base_uri": "https://localhost:8080/",
          "height": 34
        }
      },
      "source": [
        "print(\"{:.9f}\".format(1.0 / 7.0))"
      ],
      "execution_count": 0,
      "outputs": [
        {
          "output_type": "stream",
          "text": [
            "0.142857143\n"
          ],
          "name": "stdout"
        }
      ]
    },
    {
      "cell_type": "markdown",
      "metadata": {
        "id": "hSEvYFvTadbP",
        "colab_type": "text"
      },
      "source": [
        "### Problem 2.6(Class)"
      ]
    },
    {
      "cell_type": "markdown",
      "metadata": {
        "id": "claIzeSVNkSS",
        "colab_type": "text"
      },
      "source": [
        "#### Problem2.6.1(Implement DataManager Class)"
      ]
    },
    {
      "cell_type": "code",
      "metadata": {
        "id": "qpFIOPkDaiRY",
        "colab_type": "code",
        "outputId": "b38e4721-f7ef-42c5-975c-9385589ba6b9",
        "colab": {
          "base_uri": "https://localhost:8080/",
          "height": 85
        }
      },
      "source": [
        "class DataManager:\n",
        "    def __init__(self, x, y, z):\n",
        "        self.x = x;\n",
        "        self.y = y;\n",
        "        self.z = z;\n",
        "\n",
        "    def add_x(self, delta):\n",
        "        self.x += delta\n",
        "    \n",
        "    def add_y(self, delta):\n",
        "        self.y += delta\n",
        "    \n",
        "    def add_z(self, delta):\n",
        "        self.z += delta\n",
        "    \n",
        "    def sum(self):\n",
        "        return self.x + self.y + self.z\n",
        "\n",
        "data_manager = DataManager(2, 3, 5)\n",
        "print(data_manager.sum()) # expected output is 10 \n",
        "\n",
        "data_manager.add_x(4)\n",
        "print(data_manager.sum()) # expected output is 14\n",
        "\n",
        "data_manager.add_y(0)\n",
        "print(data_manager.sum()) # expected output is 14 \n",
        "\n",
        "data_manager.add_z(-9)\n",
        "print(data_manager.sum()) # expected output is 5 \n"
      ],
      "execution_count": 0,
      "outputs": [
        {
          "output_type": "stream",
          "text": [
            "10\n",
            "14\n",
            "14\n",
            "5\n"
          ],
          "name": "stdout"
        }
      ]
    },
    {
      "cell_type": "markdown",
      "metadata": {
        "id": "yitEaq-AdiV8",
        "colab_type": "text"
      },
      "source": [
        "### Problem 2.7(Function Calls)"
      ]
    },
    {
      "cell_type": "markdown",
      "metadata": {
        "id": "xqzDgZxhNwWR",
        "colab_type": "text"
      },
      "source": [
        "#### Problem 2.7.1(mutabule or immutable)"
      ]
    },
    {
      "cell_type": "code",
      "metadata": {
        "id": "JdYjVfhjdvlN",
        "colab_type": "code",
        "outputId": "bea39319-623d-4152-92a8-ee655d19576a",
        "colab": {
          "base_uri": "https://localhost:8080/",
          "height": 85
        }
      },
      "source": [
        "# guess: print(a0) => [6, 7, 8]\n",
        "# guess: print(a1) => [1, 2, 3, 1]\n",
        "\n",
        "def f(a):\n",
        "    #print(id(a))\n",
        "    a = [6, 7, 8]\n",
        "    #print(id(a))\n",
        "\n",
        "def g(a):\n",
        "    a.append(1)\n",
        "    #print(id(a))\n",
        "\n",
        "def h(a):\n",
        "    a += 1\n",
        "    \n",
        "def somefunction():\n",
        "    a0 = [1, 2, 3]\n",
        "    #print(id(a0))\n",
        "    f(a0)\n",
        "    print(a0)\n",
        "    #print(id(a0))\n",
        "\n",
        "    a1 = [1, 2, 3]\n",
        "    #print(id(a1))\n",
        "    g(a1)\n",
        "    #print(id(a1))\n",
        "    print(a1)\n",
        "\n",
        "    a2 = 2;\n",
        "    h(a2)\n",
        "    print(a2)\n",
        "\n",
        "\n",
        "somefunction()"
      ],
      "execution_count": 0,
      "outputs": [
        {
          "output_type": "stream",
          "text": [
            "140394499127048\n",
            "[1, 2, 3]\n",
            "[1, 2, 3, 1]\n",
            "2\n"
          ],
          "name": "stdout"
        }
      ]
    },
    {
      "cell_type": "markdown",
      "metadata": {
        "id": "qHSCYxh0kZGT",
        "colab_type": "text"
      },
      "source": [
        "a0に[1, 2, 3]が代入されたとき,a0は右辺値である[1,2,3]のポインタを参照で持つ.  \n",
        "f(a0)で関数fを呼び出したとき,fの引数aが受け取るのは、a0が参照しているアドレス.  \n",
        "fの内部でaになんらかが代入されても,aが参照するのは代入されたときの右辺値なので,a0が参照しているアドレスのオブジェクトに変更が加えられるわけではない.  \n",
        "逆にg内でリストの末尾に1が追加されたとき,aが参照しているアドレスのオブジェクトに変更が加えられているので,a1が参照しているものも変更されている。\n",
        "\n",
        "int, double, tupleなどは長さ(値の数)が変わらないの変数のメモリ上の位置が連続していない.    \n",
        " -> 代入などの変更がされるたびに新しくオブジェクトをつくって、それのアドレスをもたせればいい.(immutable)  \n",
        "\n",
        "対して,list, dictなどは,要素のメモリ上の配置が連続している.  \n",
        "-> 変更があるたびに新しくオブジェクトをつくるわけにもいかない(そんなことをしていたら計算量がヤバいことになるので),同じ参照をもつ変数に変更を加えたら,もとの参照しているオブジェクトに変更が加えられる.  (mutable)"
      ]
    },
    {
      "cell_type": "markdown",
      "metadata": {
        "id": "_8_UE-3HqJwN",
        "colab_type": "text"
      },
      "source": [
        "### Problem 2.8(Control Syntax)"
      ]
    },
    {
      "cell_type": "markdown",
      "metadata": {
        "id": "FZImScleN8Ek",
        "colab_type": "text"
      },
      "source": [
        "#### Problem 2.8.1(Enumerate prime numbers from 1 to 100)"
      ]
    },
    {
      "cell_type": "code",
      "metadata": {
        "id": "o_qQrp-Rqf9s",
        "colab_type": "code",
        "outputId": "edd446c6-7483-4447-acd5-fb0d4a1e1e0d",
        "colab": {
          "base_uri": "https://localhost:8080/",
          "height": 34
        }
      },
      "source": [
        "lower = 0\n",
        "upper = 100\n",
        "is_prime = [True for x in range(lower, upper + 1)]\n",
        "is_prime[0] = is_prime[1] = False\n",
        "\n",
        "i = 2\n",
        "while(i ** 2 <= upper):\n",
        "    if(is_prime[i] == True): \n",
        "        k = 2*i\n",
        "        while(k <= upper):  \n",
        "            is_prime[k] = False\n",
        "            k += i\n",
        "    i += 1\n",
        "prime = [i for i, x in enumerate(is_prime) if x == True]\n",
        "print(prime)"
      ],
      "execution_count": 0,
      "outputs": [
        {
          "output_type": "stream",
          "text": [
            "[2, 3, 5, 7, 11, 13, 17, 19, 23, 29, 31, 37, 41, 43, 47, 53, 59, 61, 67, 71, 73, 79, 83, 89, 97]\n"
          ],
          "name": "stdout"
        }
      ]
    },
    {
      "cell_type": "markdown",
      "metadata": {
        "id": "H1AuQo95gbym",
        "colab_type": "text"
      },
      "source": [
        "## Ploblem 4(Basic of Differential)"
      ]
    },
    {
      "cell_type": "markdown",
      "metadata": {
        "id": "od9yeGOhg7jk",
        "colab_type": "text"
      },
      "source": [
        "### Problem 4.1(Derivative)"
      ]
    },
    {
      "cell_type": "markdown",
      "metadata": {
        "id": "EroeBlOTOB9A",
        "colab_type": "text"
      },
      "source": [
        "#### Problem 4.1.1($f_1(x) = x^3$)"
      ]
    },
    {
      "cell_type": "markdown",
      "metadata": {
        "id": "A6YqY0pZg_NH",
        "colab_type": "text"
      },
      "source": [
        "$$\n",
        "\\begin{eqnarray}\n",
        "f_1'(x) &=& \\lim_{h \\to 0} \\cfrac{f_1(x + h) - f_1(x)}{h} \\\\\n",
        "        &=& \\lim_{h \\to 0} \\cfrac{(x + h)^3 - x^3}{h} \\\\\n",
        "        &=& \\lim_{h \\to 0} \\cfrac{x^3 + 3x^2h + 3xh^2 + h^3 - x^3}{h} \\\\\n",
        "        &=& \\lim_{h \\to 0} (3x^2 + 3xh + h^2) \\\\\n",
        "        &=& 3x^2\n",
        "\\end{eqnarray}\n",
        "$$"
      ]
    },
    {
      "cell_type": "markdown",
      "metadata": {
        "id": "pcxX8sxbOYeL",
        "colab_type": "text"
      },
      "source": [
        "#### Problem 4.1.2($f_2(x) = \\sqrt{x}$)"
      ]
    },
    {
      "cell_type": "markdown",
      "metadata": {
        "id": "eEdEW6sBzq60",
        "colab_type": "text"
      },
      "source": [
        "$$\n",
        "\\begin{eqnarray}\n",
        "f_2'(x) &=& \\lim_{h \\to 0} \\cfrac{f_2(x + h) - f_2(x)}{h} \\\\\n",
        "        &=& \\lim_{h \\to 0} \\cfrac{\\sqrt{x + h} - \\sqrt{x}}{h} \\\\\n",
        "        &=& \\lim_{h \\to 0} \\cfrac{\\sqrt{x + h} - \\sqrt{x}}{h} \\cfrac{\\sqrt{x +h} + \\sqrt{x}}{\\sqrt{x +h} + \\sqrt{x}} \\\\\n",
        "        &=& \\lim_{h \\to 0} \\cfrac{{x + h} - {x}}{h(\\sqrt{x +h} + \\sqrt{x})} \\\\\n",
        "        &=& \\lim_{h \\to 0} \\cfrac{1}{\\sqrt{x +h} + \\sqrt{x}} \\\\\n",
        "        &=& \\cfrac{1}{2 \\sqrt{x}} \\\\\n",
        "\\end{eqnarray}\n",
        "$$"
      ]
    },
    {
      "cell_type": "markdown",
      "metadata": {
        "id": "lBMRI97spo9g",
        "colab_type": "text"
      },
      "source": [
        "### Problem 4.2(Linearity)\n"
      ]
    },
    {
      "cell_type": "markdown",
      "metadata": {
        "id": "W031wpTFOfee",
        "colab_type": "text"
      },
      "source": [
        "#### Problem 4.2.1($f_1(x) = 2x^2 - 5x + 1$)"
      ]
    },
    {
      "cell_type": "markdown",
      "metadata": {
        "id": "CgpjwVqKytlV",
        "colab_type": "text"
      },
      "source": [
        "$$\n",
        "\\begin{eqnarray}\n",
        "f_1'(x) &=& (2x^2 - 5x + 1)' \\\\\n",
        "        &=& (2x^2)' + (5x) + (1)' \\\\\n",
        "        &=& 2(x^2)' + 5(x)' + (1)' \\\\\n",
        "        &=& 4x + 5 \\\\\n",
        "\\end{eqnarray}\n",
        "$$"
      ]
    },
    {
      "cell_type": "markdown",
      "metadata": {
        "id": "ChLW6sBsOrBt",
        "colab_type": "text"
      },
      "source": [
        "#### Problem 4.2.2($f_2(x) = \\displaystyle \\sum_{k = 0}^{123}(k^2 + 1)x^k$)"
      ]
    },
    {
      "cell_type": "markdown",
      "metadata": {
        "id": "L96RL-aozki5",
        "colab_type": "text"
      },
      "source": [
        "$$\n",
        "\\begin{eqnarray}\n",
        "f_2'(x) &=& (\\sum_{k = 0}^{123}(k^2 + 1)x^k)' \\\\\n",
        "        &=& \\sum_{k = 1}^{123}k(k^2 + 1)x^{k - 1} \\\\\n",
        "\\end{eqnarray}\n",
        "$$\n",
        "※$k = 0$のときは定数なので微分すると0になる"
      ]
    },
    {
      "cell_type": "markdown",
      "metadata": {
        "id": "ZhaieRh0yA98",
        "colab_type": "text"
      },
      "source": [
        "### Problem 4.3(Product Rule)"
      ]
    },
    {
      "cell_type": "markdown",
      "metadata": {
        "id": "GHAmSFTQO1DY",
        "colab_type": "text"
      },
      "source": [
        "#### Problem 4.3.1($f_1(x) = x \\cdot x$)"
      ]
    },
    {
      "cell_type": "markdown",
      "metadata": {
        "id": "JFyOIvY3ywMB",
        "colab_type": "text"
      },
      "source": [
        "$$\n",
        "\\begin{eqnarray}\n",
        "f_1'(x) &=& (x \\cdot x)' \\\\\n",
        "        &=& (x)'x + x(x)' \\\\\n",
        "        &=& (1)x + x(1)  \\\\\n",
        "        &=& 2x \\\\\n",
        "\\end{eqnarray}\n",
        "$$"
      ]
    },
    {
      "cell_type": "markdown",
      "metadata": {
        "id": "FLbAluyyO6pa",
        "colab_type": "text"
      },
      "source": [
        "#### Problem 4.3.2($f_2(x) = x \\cdot x^2$)"
      ]
    },
    {
      "cell_type": "markdown",
      "metadata": {
        "id": "Is0i8j8F0WZb",
        "colab_type": "text"
      },
      "source": [
        "$$\n",
        "\\begin{eqnarray}\n",
        "f_1'(x) &=& (x \\cdot x^2)' \\\\\n",
        "        &=& (x)'x^2 + x(x^2)' \\\\\n",
        "        &=& (1)x^2 + x(2x) \\\\\n",
        "        &=& 3x^2 \\\\\n",
        "\\end{eqnarray}\n",
        "$$"
      ]
    },
    {
      "cell_type": "markdown",
      "metadata": {
        "id": "nAkZyqI_O8yj",
        "colab_type": "text"
      },
      "source": [
        "#### Problem 4.3.3($f_3(x) = x \\cdot x^3$)"
      ]
    },
    {
      "cell_type": "markdown",
      "metadata": {
        "id": "wFKb81RM1H9m",
        "colab_type": "text"
      },
      "source": [
        "$$\n",
        "\\begin{eqnarray}\n",
        "f_3'(x) &=& (x \\cdot x^3)' \\\\\n",
        "        &=& (x)'x^3 + x(x^3)' \\\\\n",
        "        &=& (1)x^3 + x(3x^2) \\\\\n",
        "        &=& 4x^3 \\\\\n",
        "\\end{eqnarray}\n",
        "$$"
      ]
    },
    {
      "cell_type": "markdown",
      "metadata": {
        "id": "7D_2DLAL1a35",
        "colab_type": "text"
      },
      "source": [
        "### Problem 4.4(Chain Rule)"
      ]
    },
    {
      "cell_type": "markdown",
      "metadata": {
        "id": "ALB32iYnPPvg",
        "colab_type": "text"
      },
      "source": [
        "#### Problem 4.4.1($f_1(x) = (x + 1)^3$)"
      ]
    },
    {
      "cell_type": "markdown",
      "metadata": {
        "id": "dBxRZ98F1fPU",
        "colab_type": "text"
      },
      "source": [
        "$g_1(x) = x + 1$ とおけば, $f_1(g_1(x)) = \\{g_1(x)\\}^3$であるから, \n",
        "$$\n",
        "\\begin{eqnarray}\n",
        "\\frac{d}{dx}f_1((g_1(x))    &=& \\frac{d}{dg_1(x)}f_1(g_1(x)) \\cdot \\frac{d}{dx}g_1(x) \\\\\n",
        "                            &=& \\frac{d}{dg_1(x)}g_1(x)^3 \\cdot \\frac{d}{dx}g_1(x) \\\\\n",
        "                            &=& 3g_1(x)^2  \\cdot 1 \\\\\n",
        "                            &=& 3(x + 1)^2 \\\\\n",
        "\\end{eqnarray}\n",
        "$$"
      ]
    },
    {
      "cell_type": "markdown",
      "metadata": {
        "id": "VIuvxH_3PR8Q",
        "colab_type": "text"
      },
      "source": [
        "#### Problem 4.4.2($f_2(x) = (4x)^3$)"
      ]
    },
    {
      "cell_type": "markdown",
      "metadata": {
        "id": "To1ngSlE8RrE",
        "colab_type": "text"
      },
      "source": [
        "$g_2(x) = 4x$ とおけば, $f_2(g_2(x)) = \\{g_2(x)\\}^3$であるから,  \n",
        "$$\n",
        "\\begin{eqnarray}\n",
        "\\frac{d}{dx}f_2((g_2(x))    &=& \\frac{d}{dg_2(x)}f_2(g_2(x)) \\cdot \\frac{d}{dx}g_2(x) \\\\\n",
        "                            &=& \\frac{d}{dg_2(x)}g_2(x)^3 \\cdot \\frac{d}{dx}g_2(x) \\\\\n",
        "                            &=& 3g_2(x)^2  \\cdot 4 \\\\\n",
        "                            &=& 12(4x)^2 \\\\\n",
        "                            &=& 192x^2 \\\\\n",
        "\\end{eqnarray}\n",
        "$$"
      ]
    },
    {
      "cell_type": "markdown",
      "metadata": {
        "id": "p5oBgIMvPTLM",
        "colab_type": "text"
      },
      "source": [
        "#### Problem 4.4.3($f_3(x) = exp(2x - 1)$)"
      ]
    },
    {
      "cell_type": "markdown",
      "metadata": {
        "id": "K1vN7n__9Cpj",
        "colab_type": "text"
      },
      "source": [
        "$g_3(x) = 2x - 1$ とおけば, $f_3(g_3(x)) = \\exp(g_3(x))$であるから, \n",
        "$$\n",
        "\\begin{eqnarray}\n",
        "\\frac{d}{dx}f_3((g_3(x))    &=& \\frac{d}{dg_3(x)}f_3(g_3(x)) \\cdot \\frac{d}{dx}g_3(x) \\\\\n",
        "                            &=& \\frac{d}{dg_3(x)}\\exp(g_3(x)) \\cdot \\frac{d}{dx}g_3(x) \\\\\n",
        "                            &=& \\exp(g_3(x))  \\cdot 2 \\\\\n",
        "                            &=& 2\\exp(2x - 1) \\\\\n",
        "\\end{eqnarray}\n",
        "$$"
      ]
    },
    {
      "cell_type": "markdown",
      "metadata": {
        "id": "xqqhBReAPUpG",
        "colab_type": "text"
      },
      "source": [
        "#### Problem 4.4.4($f_4(x) = exp(-x^2)$)"
      ]
    },
    {
      "cell_type": "markdown",
      "metadata": {
        "id": "9NoQZdE_-Q4E",
        "colab_type": "text"
      },
      "source": [
        "$g_4(x) = -x^2$ とおけば, $f_4(g_4(x)) = \\exp(g_4(x))$であるから, \n",
        "$$\n",
        "\\begin{eqnarray}\n",
        "\\frac{d}{dx}f_4((g_4(x))    &=& \\frac{d}{dg_4(x)}f_4(g_4(x)) \\cdot \\frac{d}{dx}g_4(x) \\\\\n",
        "                            &=& \\frac{d}{dg_4(x)}\\exp(g_4(x)) \\cdot \\frac{d}{dx}g_4(x) \\\\\n",
        "                            &=& \\exp(g_4(x))  \\cdot (-2x) \\\\\n",
        "                            &=& -2x\\exp(-x^2) \\\\\n",
        "\\end{eqnarray}\n",
        "$$"
      ]
    },
    {
      "cell_type": "markdown",
      "metadata": {
        "id": "GqWgJdwrPVqL",
        "colab_type": "text"
      },
      "source": [
        "#### Problem 4.4.5($f_5(x) = 2^x$)"
      ]
    },
    {
      "cell_type": "markdown",
      "metadata": {
        "id": "9M0jbmZd_ZhE",
        "colab_type": "text"
      },
      "source": [
        "$g_5(x) = \\exp(\\log 2^x)$ とおけば,$\\exp(\\log 2^x) = 2^x$であるので,  \n",
        "$f_5(x) = g_5(x)$となる.したがって,\n",
        "$$\n",
        "\\begin{eqnarray}\n",
        "\\frac{d}{dx}f_5((g_5(x))    &=& \\frac{d}{dg_5(x)}f_5(g_5(x)) \\cdot \\frac{d}{dx}g_5(x) \\\\\n",
        "                            &=& \\frac{d}{dg_5(x)}g_5(x) \\cdot \\frac{d}{dx}g_5(x) \\\\\n",
        "                            &=& 1 \\cdot 2^x \\log x \\\\\n",
        "                            &=& 2^x \\log x \\\\\n",
        "\\end{eqnarray}\n",
        "$$\n",
        "\n",
        "※補足\n",
        "$$\n",
        "\\begin{eqnarray}\n",
        "g_5(x) &=& \\exp(\\log 2^x) \\\\\n",
        "       &=& \\exp(x \\log 2) \\\\\n",
        "\\log g_5(x) &=& x \\log 2 \\\\\n",
        "\\frac{d}{dx} \\log g_5(x) &=& \\frac{d}{dx}(x \\log 2) \\\\\n",
        "\\frac{d}{dg_5} \\log g_5(x) \\cdot \\frac{d}{dx}g_5(x) &=& \\frac{d}{dx}(x \\log 2) \\\\\n",
        "\\frac{1}{g_5} \\frac{d}{dx}g_5(x) &=& \\log 2 \\\\\n",
        "\\frac{d}{dx}g_5(x) &=& g_5(x) \\log 2 \\\\\n",
        "\\frac{d}{dx}g_5(x) &=& 2^x \\log 2 \\\\\n",
        "\\end{eqnarray}\n",
        "$$\n"
      ]
    },
    {
      "cell_type": "markdown",
      "metadata": {
        "id": "e3GzhpkMpF8j",
        "colab_type": "text"
      },
      "source": [
        "### Problem 4.5(Chain Rule 2)\n",
        "$f(x) = x^2 + 1$  \n",
        "$g(x) = f(f(x))$  \n",
        "と定義する."
      ]
    },
    {
      "cell_type": "markdown",
      "metadata": {
        "id": "PdmJRvLdpNYN",
        "colab_type": "text"
      },
      "source": [
        "#### Problem 4.5.1\n",
        "$g(x) = x^4 + 2x^2 + 2$, $g'(x) = 4x^3 + 4x$を示せ."
      ]
    },
    {
      "cell_type": "markdown",
      "metadata": {
        "id": "0B9SyRMBpxWt",
        "colab_type": "text"
      },
      "source": [
        "$$\n",
        "\\begin{eqnarray}\n",
        "g(x) &=& f(f(x)) \\\\\n",
        "     &=& f(x^2 + 1) \\\\\n",
        "     &=& (x^2 + 1)^2 + 1 \\\\\n",
        "     &=& x^4 + 2x^2 + 2 \\\\\n",
        "\\end{eqnarray}\n",
        "$$\n",
        "\n",
        "$$\n",
        "\\begin{eqnarray}\n",
        "g'(x) &=&  (x^4 + 2x^2 + 2)' \\\\\n",
        "      &=& 4x^3 + 4x \\\\\n",
        "\\end{eqnarray}\n",
        "$$"
      ]
    },
    {
      "cell_type": "markdown",
      "metadata": {
        "id": "nb44LbzjrE-M",
        "colab_type": "text"
      },
      "source": [
        "#### Problem 4.5.2\n",
        "Chain Rule を用いて $g'(x)$ を求めよ. "
      ]
    },
    {
      "cell_type": "markdown",
      "metadata": {
        "id": "jUPC8UQ7rWhc",
        "colab_type": "text"
      },
      "source": [
        "$$\n",
        "\\begin{eqnarray}\n",
        "\\frac{d}{dx}g(x) &=& \\frac{d}{dx}f(f(x)) \\\\\n",
        "                 &=& \\frac{d}{df(x)}f(f(x)) \\cdot \\frac{d}{dx}f(x) \\\\ \n",
        "                 &=& \\frac{d}{df(x)}(f(x)^2 + 1) \\cdot \\frac{d}{dx}f(x) \\\\\n",
        "                 &=& 2f(x) \\cdot 2x \\\\\n",
        "                 &=& 2(x^2 + 1) \\cdot 2x \\\\\n",
        "                 &=& 4x^3 + 4x \n",
        "\\end{eqnarray}\n",
        "$$"
      ]
    },
    {
      "cell_type": "markdown",
      "metadata": {
        "id": "7E33ldDxxowP",
        "colab_type": "text"
      },
      "source": [
        "#### Problem 4.5.3\n",
        "$h(x) = f(f(f(x)))$と定義する. $h'(x)$を求めよ."
      ]
    },
    {
      "cell_type": "markdown",
      "metadata": {
        "id": "2YJEgjmYyBEN",
        "colab_type": "text"
      },
      "source": [
        "$$\n",
        "\\begin{eqnarray}\n",
        "h(x) &=& f(f(f(x))) \\\\\n",
        "     &=& f(g(x)) \\\\ \n",
        "\\frac{d}{dx}h(x) &=& \\frac{d}{dg(x)}f(g(x)) \\cdot \\frac{d}{dx}g(x) \\\\\n",
        "                 &=& \\frac{d}{dg(x)}(g(x)^2 + 1) \\cdot \\frac{d}{dx}g(x) \\\\\n",
        "                 &=& 2g(x) \\cdot (4x^3 + 4x) \\\\\n",
        "                 &=& 2(x^4 + 2x^2 + 2)(4x^3 + 4x) \\\\\n",
        "                 &=& 8(x^7 + 3x^5 + 4x^3 + 2x) \n",
        "\\end{eqnarray}\n",
        "$$"
      ]
    },
    {
      "cell_type": "markdown",
      "metadata": {
        "id": "1rqz5GPK0WqF",
        "colab_type": "text"
      },
      "source": [
        "### Problem 2.6(exp and log)"
      ]
    },
    {
      "cell_type": "markdown",
      "metadata": {
        "id": "We9E4Sl20p-h",
        "colab_type": "text"
      },
      "source": [
        "#### Problem 2.6.1\n",
        "指数関数の数値微分と解析的な微分の差を確かめよ"
      ]
    },
    {
      "cell_type": "code",
      "metadata": {
        "id": "ExqBG7o-01Pu",
        "colab_type": "code",
        "colab": {
          "base_uri": "https://localhost:8080/",
          "height": 425
        },
        "outputId": "49a20619-b8f3-4ced-e8e6-6da9bca10672"
      },
      "source": [
        "import math \n",
        "\n",
        "def f(x):\n",
        "    return math.exp(x)\n",
        "\n",
        "def df_dx_analy(x):\n",
        "    return math.exp(x)\n",
        "\n",
        "def df_dx_approx(x):\n",
        "    dx = 0.0001\n",
        "    return (f(x + dx) - f(x)) / dx\n",
        "\n",
        "def main():\n",
        "    X = [-3, -2, 0, 1, 2, 3]\n",
        "    for x in X:\n",
        "        print(\"x = \" + str(x))\n",
        "        print(\"approx : \" + str(df_dx_approx(x)))\n",
        "        print(\"analytics : \" + str(df_dx_analy(x)))\n",
        "        print(\"square error : \" + str((df_dx_analy(x) - df_dx_approx(x)) ** 2 ))\n",
        "\n",
        "main()"
      ],
      "execution_count": 7,
      "outputs": [
        {
          "output_type": "stream",
          "text": [
            "x = -3\n",
            "approx : 0.04978955780436667\n",
            "analytics : 0.049787068367863944\n",
            "square error : 6.197294101095731e-12\n",
            "x = -2\n",
            "approx : 0.13534205022619483\n",
            "analytics : 0.1353352832366127\n",
            "square error : 4.579214800465386e-11\n",
            "x = 0\n",
            "approx : 1.000050001667141\n",
            "analytics : 1.0\n",
            "square error : 2.5001667168768906e-09\n",
            "x = 1\n",
            "approx : 2.718417747082924\n",
            "analytics : 2.718281828459045\n",
            "square error : 1.8473872317150506e-08\n",
            "x = 2\n",
            "approx : 7.389425564063856\n",
            "analytics : 7.38905609893065\n",
            "square error : 1.3650448465477436e-07\n",
            "x = 3\n",
            "approx : 20.08654123354603\n",
            "analytics : 20.085536923187668\n",
            "square error : 1.008639295911678e-06\n"
          ],
          "name": "stdout"
        }
      ]
    },
    {
      "cell_type": "markdown",
      "metadata": {
        "id": "QQ8XtHUu6nyM",
        "colab_type": "text"
      },
      "source": [
        "#### Problem 2.6.2\n",
        "対数関数の数値微分と解析的な微分の差を確かめよ"
      ]
    },
    {
      "cell_type": "code",
      "metadata": {
        "id": "Btw6vt3w2PNX",
        "colab_type": "code",
        "colab": {
          "base_uri": "https://localhost:8080/",
          "height": 425
        },
        "outputId": "7ab27b2f-d47b-43c5-90b6-5fed2903783e"
      },
      "source": [
        "import math \n",
        "\n",
        "def f(x):\n",
        "    return math.log(x)\n",
        "\n",
        "def df_dx_analy(x):\n",
        "    return 1 / x\n",
        "\n",
        "def df_dx_approx(x):\n",
        "    dx = 0.0001\n",
        "    return (f(x + dx) - f(x)) / dx\n",
        "\n",
        "def main():\n",
        "    X = [0.25, 0.5, 1, 3, 4, 8]\n",
        "    for x in X:\n",
        "        print(\"x = \" + str(x))\n",
        "        print(\"approx : \" + str(df_dx_approx(x)))\n",
        "        print(\"analytics : \" + str(df_dx_analy(x)))\n",
        "        print(\"square error : \" + str((df_dx_analy(x) - df_dx_approx(x)) ** 2 ))\n",
        "\n",
        "main()"
      ],
      "execution_count": 8,
      "outputs": [
        {
          "output_type": "stream",
          "text": [
            "x = 0.25\n",
            "approx : 3.9992002132693827\n",
            "analytics : 4.0\n",
            "square error : 6.39658814471531e-07\n",
            "x = 0.5\n",
            "approx : 1.999800026661891\n",
            "analytics : 2.0\n",
            "square error : 3.998933595448071e-08\n",
            "x = 1\n",
            "approx : 0.9999500033329731\n",
            "analytics : 1.0\n",
            "square error : 2.4996667137961874e-09\n",
            "x = 3\n",
            "approx : 0.3333277779016264\n",
            "analytics : 0.3333333333333333\n",
            "square error : 3.0862821450456464e-11\n",
            "x = 4\n",
            "approx : 0.2499968750524495\n",
            "analytics : 0.25\n",
            "square error : 9.765297193397953e-12\n",
            "x = 8\n",
            "approx : 0.12499921875797071\n",
            "analytics : 0.125\n",
            "square error : 6.103391083303319e-13\n"
          ],
          "name": "stdout"
        }
      ]
    },
    {
      "cell_type": "markdown",
      "metadata": {
        "id": "YaoshjUw6xE_",
        "colab_type": "text"
      },
      "source": [
        "### Problem 2.7(Differentiation of activation function)"
      ]
    },
    {
      "cell_type": "markdown",
      "metadata": {
        "id": "tF7P5_5B7ZDr",
        "colab_type": "text"
      },
      "source": [
        "#### Problem 2.7.1(ReLU)"
      ]
    },
    {
      "cell_type": "markdown",
      "metadata": {
        "id": "Q4gavmQO7gDO",
        "colab_type": "text"
      },
      "source": [
        "$x+\\Delta x と x が 0を挟むようにしてあるとき,ReLU'(x)は発散する. それ以外で, $  \n",
        "$x \\ge 0 のとき,$\n",
        "$$\n",
        "\\begin{eqnarray}\n",
        "ReLU'(x) &=& \\lim_{\\Delta x \\to 0}\\cfrac{ReLU(x + \\Delta x) - ReLU(x)}{\\Delta x} \\\\\n",
        "         &=& \\lim_{\\Delta x \\to 0} \\cfrac{x + \\Delta x - x}{\\Delta x} \\\\\n",
        "         &=& 1 \\\\\n",
        "\\end{eqnarray}\n",
        "$$\n",
        "$x \\lt 0 のとき,$  \n",
        "$$\n",
        "\\begin{eqnarray}\n",
        "ReLU'(x) &=& \\lim_{\\Delta x \\to 0}\\cfrac{0 - 0}{\\Delta x} \\\\\n",
        "         &=& 0 \\\\\n",
        "\\end{eqnarray}\n",
        "$$\n",
        "$まとめると,$\n",
        "$$\n",
        "ReLU(x) = \n",
        "\\begin{cases}\n",
        "1 & (x \\ge 0) \\\\\n",
        "0 & (x \\lt 0)\n",
        "\\end{cases}\n",
        "$$\n"
      ]
    },
    {
      "cell_type": "markdown",
      "metadata": {
        "id": "7DJtzWXXB9qZ",
        "colab_type": "text"
      },
      "source": [
        "#### Problem 2.7.2(tanh(x))"
      ]
    },
    {
      "cell_type": "markdown",
      "metadata": {
        "id": "LQAywOsXCFhw",
        "colab_type": "text"
      },
      "source": [
        "$$\n",
        "\\begin{eqnarray}\n",
        "tanh(x) &=& \\cfrac{e^x - e^{-x}}{e^x + e^{-x}} \\\\\n",
        "tanh'(x) &=& \\cfrac{(e^x - e^{-x})'(e^x + e^{-x}) - (e^x - e^{-x})(e^x + e^{-x})'}{(e^x + e^{-x}) ^ 2} \\\\\n",
        "tanh'(x) &=& \\cfrac{(e^x + e^{-x})^2 - (e^x - e^{-x})^2}{(e^x + e^{-x}) ^ 2} \\\\\n",
        "tanh'(x) &=& \\cfrac{4}{(e^x + e^{-x}) ^ 2} \\\\\n",
        "\\end{eqnarray}\n",
        "$$"
      ]
    },
    {
      "cell_type": "markdown",
      "metadata": {
        "id": "emkyVR9DDJo0",
        "colab_type": "text"
      },
      "source": [
        "#### Problem 2.7.3(Sigmoid(x))"
      ]
    },
    {
      "cell_type": "markdown",
      "metadata": {
        "id": "fuc1EEjmDP4V",
        "colab_type": "text"
      },
      "source": [
        "$$\n",
        "\\begin{eqnarray}\n",
        "Sigmoid(x) &=& \\cfrac{1}{1 + e^{-x}} \\\\\n",
        "Sigmoid'(x) &=& \\cfrac{(1)'(1 + e^{-x}) - 1(1 + e^{-x})'}{(1 + e^{-x}) ^ 2} \\\\\n",
        "Sigmoid'(x) &=& \\cfrac{e^{-x}}{(1 + e^{-x}) ^ 2} \\\\\n",
        "\\end{eqnarray}\n",
        "$$"
      ]
    },
    {
      "cell_type": "markdown",
      "metadata": {
        "id": "oFNpYcepDz6O",
        "colab_type": "text"
      },
      "source": [
        "#### Problem 2.7.4(Softplus(x))"
      ]
    },
    {
      "cell_type": "markdown",
      "metadata": {
        "id": "nAol3f-5D4GU",
        "colab_type": "text"
      },
      "source": [
        "$$\n",
        "\\begin{eqnarray}\n",
        "Softplus(x) &=& \\log(1 + e^x) \\\\\n",
        "g(x) = 1 + e^x とおけば,\\\\\n",
        "Softplus(g(x)) &=& \\log(g(x)) \\\\\n",
        "Softplus'(x) &=& \\cfrac{d}{dg(x)}Softplus(g(x)) \\cdot \\cfrac{d}{dx}g(x) \\\\\n",
        "             &=& \\cfrac{d}{dg(x)}log(g(x)) \\cdot \\cfrac{d}{dx}g(x) \\\\\n",
        "             &=& \\cfrac{1}{g(x)} \\cdot e^x \\\\\n",
        "             &=& \\cfrac{e^x}{1 + e^x} \\\\\n",
        "\\end{eqnarray}\n",
        "$$"
      ]
    }
  ]
}